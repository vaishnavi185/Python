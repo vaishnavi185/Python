{
 "cells": [
  {
   "cell_type": "code",
   "execution_count": 1,
   "id": "8ee61949",
   "metadata": {},
   "outputs": [
    {
     "name": "stdout",
     "output_type": "stream",
     "text": [
      "Requirement already satisfied: numpy in c:\\users\\hp\\anaconda3\\lib\\site-packages (1.21.5)\n",
      "Note: you may need to restart the kernel to use updated packages.\n"
     ]
    }
   ],
   "source": [
    "pip install numpy"
   ]
  },
  {
   "cell_type": "code",
   "execution_count": 2,
   "id": "c053f337",
   "metadata": {},
   "outputs": [
    {
     "name": "stdout",
     "output_type": "stream",
     "text": [
      "[1 4 5 7]\n",
      "<class 'numpy.ndarray'>\n"
     ]
    }
   ],
   "source": [
    "import numpy as np\n",
    "arr =np.array([1,4,5,7])\n",
    "print(arr)\n",
    "print(type(arr))\n"
   ]
  },
  {
   "cell_type": "code",
   "execution_count": 11,
   "id": "c715e661",
   "metadata": {},
   "outputs": [
    {
     "name": "stdout",
     "output_type": "stream",
     "text": [
      "6\n",
      "[4 5]\n",
      "[1 5]\n",
      "[1 4 5 7]\n"
     ]
    }
   ],
   "source": [
    "print(arr[0]+arr[2])\n",
    "print(arr[1:3])  #indexing[start:end] end-1\n",
    "print(arr[0:3:2]) #indexing[start:end:step] step=1\n",
    "print(arr[:4]) #last element"
   ]
  },
  {
   "cell_type": "code",
   "execution_count": null,
   "id": "96bfa9d2",
   "metadata": {},
   "outputs": [
    {
     "data": {
      "text/plain": [
       "dtype('<U1')"
      ]
     },
     "execution_count": 17,
     "metadata": {},
     "output_type": "execute_result"
    }
   ],
   "source": [
    "arr=np.array([\"h\",\"i\",\"$\"])\n",
    "arr.dtype  #tell datatype of array elements"
   ]
  },
  {
   "cell_type": "code",
   "execution_count": null,
   "id": "10128aeb",
   "metadata": {},
   "outputs": [
    {
     "name": "stdout",
     "output_type": "stream",
     "text": [
      "[1 2 3]\n",
      "int8\n"
     ]
    }
   ],
   "source": [
    "import numpy as np\n",
    "\n",
    "arr = np.array([1.1, 2.1, 3.1])\n",
    "\n",
    "newarr = arr.astype('b')  #to convert from one datatype to another\n",
    "\n",
    "print(newarr)\n",
    "print(newarr.dtype)\n"
   ]
  },
  {
   "cell_type": "code",
   "execution_count": 30,
   "id": "31bf3dd5",
   "metadata": {},
   "outputs": [
    {
     "name": "stdout",
     "output_type": "stream",
     "text": [
      "None\n",
      "[ 1  3 45  6]\n",
      "[ 1 90 45  6]\n"
     ]
    }
   ],
   "source": [
    "arr=np.array([1,3,45,6])\n",
    "x= arr.copy()  #deep copy change in orignial array will not reflect in copied array\n",
    "x[1]=90\n",
    "y=arr.base\n",
    "print(y)\n",
    "print(arr)\n",
    "print(x)"
   ]
  },
  {
   "cell_type": "code",
   "execution_count": 33,
   "id": "968e9e3f",
   "metadata": {},
   "outputs": [
    {
     "name": "stdout",
     "output_type": "stream",
     "text": [
      "[20  3  5  7]\n",
      "[20  3  5  7]\n",
      "[20  3  5  7]\n"
     ]
    }
   ],
   "source": [
    "arr=np.array([1,3,5,7])\n",
    "p=arr.view()  #shallow copy change in orignial array will reflect in copied array\n",
    "p[0]=20\n",
    "print(p.base)\n",
    "print(arr)\n",
    "print(p)"
   ]
  },
  {
   "cell_type": "code",
   "execution_count": 13,
   "id": "95609fc8",
   "metadata": {},
   "outputs": [
    {
     "name": "stdout",
     "output_type": "stream",
     "text": [
      "Reshaped Array A to (4,2): [[ 1  2]\n",
      " [34  3]\n",
      " [23 89]\n",
      " [ 0 23]]\n",
      "Reshaped Array B to (1,2,2): [[[1 2]\n",
      "  [3 4]]]\n",
      "Array A:\n",
      "[[ 1  2 34  3]\n",
      " [23 89  0 23]]\n",
      "Shape of A: (2, 4)\n",
      "\n",
      "Array B:\n",
      "[[[1 2 3 4]]]\n",
      "Shape of B: (1, 1, 4)\n"
     ]
    }
   ],
   "source": [
    "#shape of array tell deminsions of array and number of element present \n",
    "#reshape arrya\n",
    "import numpy as np\n",
    "\n",
    "A = np.array([[1, 2, 34, 3], [23, 89, 0, 23]])\n",
    "B = np.array([1, 2, 3, 4], ndmin=3)\n",
    "newarr = A.reshape(4,2)\n",
    "print(\"Reshaped Array A to (4,2):\",newarr)\n",
    "newarr2 =B.reshape(1,2,2)\n",
    "print(\"Reshaped Array B to (1,2,2):\",newarr2)\n",
    "\n",
    "print(\"Array A:\")\n",
    "print(A)\n",
    "print(\"Shape of A:\", A.shape)  # (2, 4)\n",
    "\n",
    "print(\"\\nArray B:\")\n",
    "print(B)\n",
    "print(\"Shape of B:\", B.shape)  # (1, 1, 4)\n"
   ]
  },
  {
   "cell_type": "code",
   "execution_count": 16,
   "id": "7aeb2584",
   "metadata": {},
   "outputs": [
    {
     "name": "stdout",
     "output_type": "stream",
     "text": [
      "1\n",
      "2\n",
      "3\n",
      "4\n",
      "4\n",
      "5\n",
      "6\n",
      "7\n"
     ]
    }
   ],
   "source": [
    "#iterating array\n",
    "import numpy as np\n",
    "arr = np.array([[1,2,3,4],[4,5,6,7]])\n",
    "for x in arr:\n",
    "    for y in x:\n",
    "        print(y)"
   ]
  }
 ],
 "metadata": {
  "kernelspec": {
   "display_name": "base",
   "language": "python",
   "name": "python3"
  },
  "language_info": {
   "codemirror_mode": {
    "name": "ipython",
    "version": 3
   },
   "file_extension": ".py",
   "mimetype": "text/x-python",
   "name": "python",
   "nbconvert_exporter": "python",
   "pygments_lexer": "ipython3",
   "version": "3.9.12"
  }
 },
 "nbformat": 4,
 "nbformat_minor": 5
}
