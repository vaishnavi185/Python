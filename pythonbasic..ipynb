{
 "cells": [
  {
   "cell_type": "code",
   "execution_count": 2,
   "id": "8466c467",
   "metadata": {},
   "outputs": [
    {
     "name": "stdout",
     "output_type": "stream",
     "text": [
      "hello\n"
     ]
    }
   ],
   "source": [
    "print(\"hello\")\n"
   ]
  },
  {
   "cell_type": "code",
   "execution_count": null,
   "id": "fe0247c3",
   "metadata": {},
   "outputs": [],
   "source": [
    "#if you are using self key word you need to instancate the class\n",
    "# if you are not using self key word you can call the class directly without instancating it"
   ]
  },
  {
   "cell_type": "code",
   "execution_count": null,
   "id": "db92259f",
   "metadata": {},
   "outputs": [
    {
     "name": "stdout",
     "output_type": "stream",
     "text": [
      "6\n",
      "-1\n"
     ]
    }
   ],
   "source": [
    "class A:\n",
    "    #def sum(self,x,y)\n",
    "    def sum(x,y):\n",
    "        return x+y\n",
    "\n",
    "    def subtract(x,y):\n",
    "        return x-y\n",
    "#a=A()  for instance\n",
    "add = A.sum(1,5)\n",
    "sub=A.subtract(1,2)\n",
    "print(add)\n",
    "print(sub)"
   ]
  },
  {
   "cell_type": "code",
   "execution_count": null,
   "id": "48b9fcfd",
   "metadata": {},
   "outputs": [],
   "source": [
    "#__int__ method is constructor method\n",
    "#it is used to initialize the object of the class\n",
    "#it is called automatically when we create the object of the class\n"
   ]
  },
  {
   "cell_type": "code",
   "execution_count": 16,
   "id": "d0eb6862",
   "metadata": {},
   "outputs": [
    {
     "name": "stdout",
     "output_type": "stream",
     "text": [
      "student are adding...\n",
      "name: jonny marks: 90 age: 12\n",
      "student are adding...\n",
      "name: jony marks: 80 age: 13\n"
     ]
    }
   ],
   "source": [
    "class Student:\n",
    "    def __init__(self,name, age, marks):\n",
    "        self.name=name\n",
    "        self.age=age\n",
    "        self.marks=marks\n",
    "        print(\"student are adding...\")\n",
    "s=Student(\"jonny\",12,90)\n",
    "print(\"name:\",s.name,\"marks:\",s.marks,\"age:\",s.age)    \n",
    "s1=Student(\"jony\",13,80)\n",
    "print(\"name:\",s1.name,\"marks:\",s1.marks,\"age:\",s1.age)"
   ]
  },
  {
   "cell_type": "code",
   "execution_count": null,
   "id": "89f4e30f",
   "metadata": {},
   "outputs": [],
   "source": [
    "#attrributes-->class attr , object attr\n",
    "#methods \n",
    "#we cane change value of attribute also\n",
    "#static method doesnot need self key word"
   ]
  },
  {
   "cell_type": "code",
   "execution_count": 21,
   "id": "cda34f45",
   "metadata": {},
   "outputs": [
    {
     "name": "stdout",
     "output_type": "stream",
     "text": [
      "pia\n",
      "60.0\n"
     ]
    }
   ],
   "source": [
    "class Student:\n",
    "    def __init__(self,name,m1,m2,m3):\n",
    "        self.name=name\n",
    "        self.marks=[m1,m2,m3]\n",
    "    def get_name(self):\n",
    "        return self.name\n",
    "   \n",
    "    def avg(self):\n",
    "        return sum(self.marks)/3\n",
    "    \n",
    "s1=Student(\"jony\",12,78,90)\n",
    "s1.name=\"pia\"\n",
    "print(s1.get_name())\n",
    "print(s1.avg())"
   ]
  },
  {
   "cell_type": "code",
   "execution_count": null,
   "id": "bbd7eb4c",
   "metadata": {},
   "outputs": [],
   "source": [
    "#abstarction"
   ]
  },
  {
   "cell_type": "code",
   "execution_count": 25,
   "id": "7bd3b6db",
   "metadata": {},
   "outputs": [
    {
     "name": "stdout",
     "output_type": "stream",
     "text": [
      "your balance after deposit is: 3000\n",
      "your balance after withdraw is: 0\n",
      "0\n"
     ]
    }
   ],
   "source": [
    "class Banking:\n",
    "    def __init__(self,name,balance):\n",
    "        self.name=name\n",
    "        self.balance=balance\n",
    "    def deposit(self,amount):\n",
    "        self.balance+=amount\n",
    "        print(\"your balance after deposit is:\",self.balance)\n",
    "    def withdraw(self,amount):\n",
    "        if amount<0  or amount>self.balance:\n",
    "            print(\"insufficient balance\")\n",
    "        else:\n",
    "            self.balance-=amount\n",
    "            print(\"your balance after withdraw is:\",self.balance)\n",
    "    def get_balance(self):\n",
    "         return self.balance  \n",
    "b=Banking(\"jon\",2000)\n",
    "b.deposit(1000)\n",
    "b.withdraw(3000)\n",
    "print(b.get_balance())                     "
   ]
  },
  {
   "cell_type": "code",
   "execution_count": null,
   "id": "555f434b",
   "metadata": {},
   "outputs": [],
   "source": []
  }
 ],
 "metadata": {
  "kernelspec": {
   "display_name": "base",
   "language": "python",
   "name": "python3"
  },
  "language_info": {
   "codemirror_mode": {
    "name": "ipython",
    "version": 3
   },
   "file_extension": ".py",
   "mimetype": "text/x-python",
   "name": "python",
   "nbconvert_exporter": "python",
   "pygments_lexer": "ipython3",
   "version": "3.9.12"
  }
 },
 "nbformat": 4,
 "nbformat_minor": 5
}
