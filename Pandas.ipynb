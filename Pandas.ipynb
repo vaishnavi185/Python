{
 "cells": [
  {
   "cell_type": "code",
   "execution_count": 1,
   "id": "c4267a60",
   "metadata": {},
   "outputs": [
    {
     "name": "stdout",
     "output_type": "stream",
     "text": [
      "Requirement already satisfied: pandas in c:\\users\\hp\\anaconda3\\lib\\site-packages (1.4.2)\n",
      "Requirement already satisfied: numpy>=1.18.5 in c:\\users\\hp\\anaconda3\\lib\\site-packages (from pandas) (1.21.5)\n",
      "Requirement already satisfied: pytz>=2020.1 in c:\\users\\hp\\anaconda3\\lib\\site-packages (from pandas) (2021.3)\n",
      "Requirement already satisfied: python-dateutil>=2.8.1 in c:\\users\\hp\\anaconda3\\lib\\site-packages (from pandas) (2.8.2)\n",
      "Requirement already satisfied: six>=1.5 in c:\\users\\hp\\anaconda3\\lib\\site-packages (from python-dateutil>=2.8.1->pandas) (1.16.0)\n",
      "Note: you may need to restart the kernel to use updated packages.\n"
     ]
    }
   ],
   "source": [
    "pip install pandas"
   ]
  },
  {
   "cell_type": "code",
   "execution_count": 2,
   "id": "660d828e",
   "metadata": {},
   "outputs": [
    {
     "name": "stdout",
     "output_type": "stream",
     "text": [
      "   calories  wieght\n",
      "0        23      23\n",
      "1        56      45\n",
      "2        20      67\n"
     ]
    }
   ],
   "source": [
    "import pandas as p\n",
    "mydtaset={\n",
    "    \"calories\":[23,56,20],\n",
    "\"wieght\":[23,45,67]\n",
    "}\n",
    "myarv=p.DataFrame(mydtaset)\n",
    "print(myarv)"
   ]
  },
  {
   "cell_type": "code",
   "execution_count": 3,
   "id": "b9833c77",
   "metadata": {},
   "outputs": [
    {
     "name": "stdout",
     "output_type": "stream",
     "text": [
      "   name  age\n",
      "0  john   23\n",
      "1   ram   45\n",
      "2  kalu   12\n"
     ]
    }
   ],
   "source": [
    "import pandas as pd\n",
    "mydataset={\n",
    "    \"name\":[\"john\",\"ram\",\"kalu\"],\n",
    "    \"age\":[23,45,12]\n",
    "}\n",
    "myar=pd.DataFrame(mydataset)\n",
    "print(myar)"
   ]
  }
 ],
 "metadata": {
  "kernelspec": {
   "display_name": "base",
   "language": "python",
   "name": "python3"
  },
  "language_info": {
   "codemirror_mode": {
    "name": "ipython",
    "version": 3
   },
   "file_extension": ".py",
   "mimetype": "text/x-python",
   "name": "python",
   "nbconvert_exporter": "python",
   "pygments_lexer": "ipython3",
   "version": "3.9.12"
  }
 },
 "nbformat": 4,
 "nbformat_minor": 5
}
