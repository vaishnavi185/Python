{
 "cells": [
  {
   "cell_type": "code",
   "execution_count": 1,
   "id": "c4267a60",
   "metadata": {},
   "outputs": [
    {
     "name": "stdout",
     "output_type": "stream",
     "text": [
      "Requirement already satisfied: pandas in c:\\users\\hp\\anaconda3\\lib\\site-packages (1.4.2)\n",
      "Requirement already satisfied: numpy>=1.18.5 in c:\\users\\hp\\anaconda3\\lib\\site-packages (from pandas) (1.21.5)\n",
      "Requirement already satisfied: pytz>=2020.1 in c:\\users\\hp\\anaconda3\\lib\\site-packages (from pandas) (2021.3)\n",
      "Requirement already satisfied: python-dateutil>=2.8.1 in c:\\users\\hp\\anaconda3\\lib\\site-packages (from pandas) (2.8.2)\n",
      "Requirement already satisfied: six>=1.5 in c:\\users\\hp\\anaconda3\\lib\\site-packages (from python-dateutil>=2.8.1->pandas) (1.16.0)\n",
      "Note: you may need to restart the kernel to use updated packages.\n"
     ]
    }
   ],
   "source": [
    "pip install pandas"
   ]
  },
  {
   "cell_type": "code",
   "execution_count": 2,
   "id": "660d828e",
   "metadata": {},
   "outputs": [
    {
     "name": "stdout",
     "output_type": "stream",
     "text": [
      "   calories  wieght\n",
      "0        23      23\n",
      "1        56      45\n",
      "2        20      67\n"
     ]
    }
   ],
   "source": [
    "import pandas as p\n",
    "mydtaset={\n",
    "    \"calories\":[23,56,20],\n",
    "\"wieght\":[23,45,67]\n",
    "}\n",
    "myarv=p.DataFrame(mydtaset)\n",
    "print(myarv)"
   ]
  },
  {
   "cell_type": "code",
   "execution_count": 7,
   "id": "b9833c77",
   "metadata": {},
   "outputs": [
    {
     "name": "stdout",
     "output_type": "stream",
     "text": [
      "name    kalu\n",
      "age       12\n",
      "Name: 2, dtype: object\n"
     ]
    }
   ],
   "source": [
    "import pandas as pd\n",
    "mydataset={\n",
    "    \"name\":[\"john\",\"ram\",\"kalu\"],\n",
    "    \"age\":[23,45,12]\n",
    "}\n",
    "myar=pd.DataFrame(mydataset)\n",
    "\n",
    "x=pd.Series(mydataset)  #columns return 1-d array\n",
    "# print(mydataset[\"name\"])  # Output: ['john', 'ram', 'kalu']\n",
    "# print(mydataset[\"age\"])   # Output: [23, 45, 12]\n",
    "# print(x)\n",
    "d=myar.loc[2]  #used to return row \n",
    "print(d)\n",
    "myar.to_csv(\"data.csv\")\n",
    "# print(myar)"
   ]
  },
  {
   "cell_type": "code",
   "execution_count": null,
   "id": "f53112f7",
   "metadata": {},
   "outputs": [
    {
     "name": "stdout",
     "output_type": "stream",
     "text": [
      "a    1\n",
      "b    3\n",
      "c    4\n",
      "d    9\n",
      "dtype: int64\n"
     ]
    }
   ],
   "source": [
    "import pandas as pd\n",
    "data=[1,3,4,9]\n",
    "my =pd.Series(data,index=[\"a\",'b','c','d'])\n",
    "print(my)"
   ]
  },
  {
   "cell_type": "code",
   "execution_count": 3,
   "id": "ec2a756a",
   "metadata": {},
   "outputs": [
    {
     "name": "stdout",
     "output_type": "stream",
     "text": [
      "x    1\n",
      "y    2\n",
      "z    3\n",
      "dtype: int64\n",
      "2\n"
     ]
    }
   ],
   "source": [
    "import pandas as pd\n",
    "mydata = [1,2,3]\n",
    "data = pd.Series(mydata,index=[\"x\",\"y\",\"z\"])\n",
    "print(data)\n",
    "print(data[1])"
   ]
  },
  {
   "cell_type": "code",
   "execution_count": 4,
   "id": "268e20c8",
   "metadata": {},
   "outputs": [
    {
     "name": "stdout",
     "output_type": "stream",
     "text": [
      "day1    23\n",
      "day2    26\n",
      "day3    30\n",
      "dtype: int64\n"
     ]
    }
   ],
   "source": [
    "mydata ={\"day1\":23,\"day2\":26,\"day3\":30}\n",
    "data = pd.Series(mydata)\n",
    "a=mydata[\"day1\"]\n",
    "print(data)"
   ]
  },
  {
   "cell_type": "code",
   "execution_count": 5,
   "id": "c3842743",
   "metadata": {},
   "outputs": [
    {
     "data": {
      "text/plain": [
       "<bound method NDFrame.head of    Unnamed: 0  name  age\n",
       "0           0  john   23\n",
       "1           1   ram   45\n",
       "2           2  kalu   12>"
      ]
     },
     "execution_count": 5,
     "metadata": {},
     "output_type": "execute_result"
    }
   ],
   "source": [
    "df = pd.read_csv(\"data.csv\")\n",
    "df.head"
   ]
  },
  {
   "cell_type": "code",
   "execution_count": null,
   "id": "d73cd0c4",
   "metadata": {},
   "outputs": [],
   "source": [
    "mydata={\n",
    "    \"name\":[\"jim\",\"pom\",\"kia\"],\n",
    "    \"rollno\":[23,56,90]\n",
    "}\n",
    "data=pd.DataFrame(mydata)\n",
    "data.to_csv(\"data2.csv\") #convert to csv file \n",
    "\n"
   ]
  },
  {
   "cell_type": "code",
   "execution_count": 7,
   "id": "01a9c0ee",
   "metadata": {},
   "outputs": [
    {
     "data": {
      "text/html": [
       "<div>\n",
       "<style scoped>\n",
       "    .dataframe tbody tr th:only-of-type {\n",
       "        vertical-align: middle;\n",
       "    }\n",
       "\n",
       "    .dataframe tbody tr th {\n",
       "        vertical-align: top;\n",
       "    }\n",
       "\n",
       "    .dataframe thead th {\n",
       "        text-align: right;\n",
       "    }\n",
       "</style>\n",
       "<table border=\"1\" class=\"dataframe\">\n",
       "  <thead>\n",
       "    <tr style=\"text-align: right;\">\n",
       "      <th></th>\n",
       "      <th>Unnamed: 0</th>\n",
       "      <th>name</th>\n",
       "      <th>rollno</th>\n",
       "    </tr>\n",
       "  </thead>\n",
       "  <tbody>\n",
       "    <tr>\n",
       "      <th>0</th>\n",
       "      <td>0</td>\n",
       "      <td>jim</td>\n",
       "      <td>23</td>\n",
       "    </tr>\n",
       "    <tr>\n",
       "      <th>1</th>\n",
       "      <td>1</td>\n",
       "      <td>pom</td>\n",
       "      <td>56</td>\n",
       "    </tr>\n",
       "    <tr>\n",
       "      <th>2</th>\n",
       "      <td>2</td>\n",
       "      <td>kia</td>\n",
       "      <td>90</td>\n",
       "    </tr>\n",
       "  </tbody>\n",
       "</table>\n",
       "</div>"
      ],
      "text/plain": [
       "   Unnamed: 0 name  rollno\n",
       "0           0  jim      23\n",
       "1           1  pom      56\n",
       "2           2  kia      90"
      ]
     },
     "execution_count": 7,
     "metadata": {},
     "output_type": "execute_result"
    }
   ],
   "source": [
    "f=pd.read_csv(\"data2.csv\")\n",
    "f"
   ]
  },
  {
   "cell_type": "code",
   "execution_count": 8,
   "id": "b28934a8",
   "metadata": {},
   "outputs": [
    {
     "data": {
      "text/html": [
       "<div>\n",
       "<style scoped>\n",
       "    .dataframe tbody tr th:only-of-type {\n",
       "        vertical-align: middle;\n",
       "    }\n",
       "\n",
       "    .dataframe tbody tr th {\n",
       "        vertical-align: top;\n",
       "    }\n",
       "\n",
       "    .dataframe thead th {\n",
       "        text-align: right;\n",
       "    }\n",
       "</style>\n",
       "<table border=\"1\" class=\"dataframe\">\n",
       "  <thead>\n",
       "    <tr style=\"text-align: right;\">\n",
       "      <th></th>\n",
       "      <th>Unnamed: 0</th>\n",
       "      <th>name</th>\n",
       "      <th>rollno</th>\n",
       "    </tr>\n",
       "  </thead>\n",
       "  <tbody>\n",
       "    <tr>\n",
       "      <th>0</th>\n",
       "      <td>0</td>\n",
       "      <td>jim</td>\n",
       "      <td>23</td>\n",
       "    </tr>\n",
       "    <tr>\n",
       "      <th>1</th>\n",
       "      <td>1</td>\n",
       "      <td>pom</td>\n",
       "      <td>56</td>\n",
       "    </tr>\n",
       "    <tr>\n",
       "      <th>2</th>\n",
       "      <td>2</td>\n",
       "      <td>kia</td>\n",
       "      <td>90</td>\n",
       "    </tr>\n",
       "  </tbody>\n",
       "</table>\n",
       "</div>"
      ],
      "text/plain": [
       "   Unnamed: 0 name  rollno\n",
       "0           0  jim      23\n",
       "1           1  pom      56\n",
       "2           2  kia      90"
      ]
     },
     "execution_count": 8,
     "metadata": {},
     "output_type": "execute_result"
    }
   ],
   "source": [
    "f.head()"
   ]
  },
  {
   "cell_type": "code",
   "execution_count": 11,
   "id": "1e4fd006",
   "metadata": {},
   "outputs": [
    {
     "name": "stdout",
     "output_type": "stream",
     "text": [
      "60\n"
     ]
    }
   ],
   "source": [
    "print(pd.options.display.max_rows)"
   ]
  },
  {
   "cell_type": "code",
   "execution_count": 13,
   "id": "e7d512a9",
   "metadata": {},
   "outputs": [
    {
     "name": "stdout",
     "output_type": "stream",
     "text": [
      "   Unnamed: 0  name  age\n",
      "0           0  john   23\n",
      "1           1   ram   45\n",
      "2           2  kalu   12\n"
     ]
    }
   ],
   "source": [
    "import pandas as pd\n",
    "\n",
    "pd.options.display.max_rows = 9999\n",
    "\n",
    "df = pd.read_csv('data.csv')\n",
    "\n",
    "print(df) "
   ]
  },
  {
   "cell_type": "code",
   "execution_count": null,
   "id": "2247e559",
   "metadata": {},
   "outputs": [
    {
     "name": "stdout",
     "output_type": "stream",
     "text": [
      "<bound method DataFrame.to_string of     name  age\n",
      "0    jim   45\n",
      "1    pom   90\n",
      "2  shawn   89>\n",
      "    name  age\n",
      "1    pom   90\n",
      "2  shawn   89\n",
      "<class 'pandas.core.frame.DataFrame'>\n",
      "RangeIndex: 3 entries, 0 to 2\n",
      "Data columns (total 2 columns):\n",
      " #   Column  Non-Null Count  Dtype \n",
      "---  ------  --------------  ----- \n",
      " 0   name    3 non-null      object\n",
      " 1   age     3 non-null      int64 \n",
      "dtypes: int64(1), object(1)\n",
      "memory usage: 176.0+ bytes\n",
      "None\n"
     ]
    }
   ],
   "source": [
    "import pandas as pd\n",
    "\n",
    "# Sample data\n",
    "mydata = {\n",
    "    \"name\": [\"jim\", \"pom\", \"shawn\"],\n",
    "    \"age\": [45, 90, 89]\n",
    "}\n",
    "\n",
    "\n",
    "f = pd.DataFrame(mydata)\n",
    "\n",
    "\n",
    "\n",
    "# Read JSON file into DataFrame\n",
    "new_df = pd.read_json(\"data3.json\")\n",
    "\n",
    "# Print the new DataFrame\n",
    "print(new_df.to_string)\n",
    "print(new_df.tail(2))\n",
    "print(new_df.info()) #tell info of datset\n",
    "#head tell us first 5 rows by default\n",
    "#but cans set head(10) to see first 10 rows\n",
    "#tail tell us last 5 rows by default\n"
   ]
  },
  {
   "cell_type": "code",
   "execution_count": 14,
   "id": "69136d5f",
   "metadata": {},
   "outputs": [
    {
     "data": {
      "text/plain": [
       "ab    1\n",
       "bc    2\n",
       "kc    3\n",
       "dtype: int64"
      ]
     },
     "execution_count": 14,
     "metadata": {},
     "output_type": "execute_result"
    }
   ],
   "source": [
    "import pandas as pd\n",
    "\n",
    "n=pd.Series(data=[\"a\",\"b\",\"c\"] ,index=[1,2,3])  \n",
    "m=pd.Series(data=[sum,print,len])\n",
    "n[1]=9\n",
    "n\n",
    "data=[\"ab\",\"bc\",\"kc\"]\n",
    "labels=[1,2,3]\n",
    "a=pd.Series(data=labels,index=data)\n",
    "a\n",
    "\n"
   ]
  },
  {
   "cell_type": "code",
   "execution_count": 15,
   "id": "73e5a11e",
   "metadata": {},
   "outputs": [],
   "source": [
    "import numpy as np\n",
    "from numpy.random import randn"
   ]
  },
  {
   "cell_type": "code",
   "execution_count": 48,
   "id": "8233bc73",
   "metadata": {},
   "outputs": [
    {
     "data": {
      "text/html": [
       "<div>\n",
       "<style scoped>\n",
       "    .dataframe tbody tr th:only-of-type {\n",
       "        vertical-align: middle;\n",
       "    }\n",
       "\n",
       "    .dataframe tbody tr th {\n",
       "        vertical-align: top;\n",
       "    }\n",
       "\n",
       "    .dataframe thead th {\n",
       "        text-align: right;\n",
       "    }\n",
       "</style>\n",
       "<table border=\"1\" class=\"dataframe\">\n",
       "  <thead>\n",
       "    <tr style=\"text-align: right;\">\n",
       "      <th></th>\n",
       "      <th>w</th>\n",
       "      <th>x</th>\n",
       "      <th>y</th>\n",
       "      <th>z</th>\n",
       "    </tr>\n",
       "  </thead>\n",
       "  <tbody>\n",
       "    <tr>\n",
       "      <th>a</th>\n",
       "      <td>0.456525</td>\n",
       "      <td>0.509615</td>\n",
       "      <td>0.044549</td>\n",
       "      <td>0.522666</td>\n",
       "    </tr>\n",
       "    <tr>\n",
       "      <th>b</th>\n",
       "      <td>-0.451695</td>\n",
       "      <td>-0.331836</td>\n",
       "      <td>-0.611070</td>\n",
       "      <td>-0.829904</td>\n",
       "    </tr>\n",
       "    <tr>\n",
       "      <th>c</th>\n",
       "      <td>-0.104895</td>\n",
       "      <td>1.232703</td>\n",
       "      <td>0.613380</td>\n",
       "      <td>-0.144972</td>\n",
       "    </tr>\n",
       "    <tr>\n",
       "      <th>d</th>\n",
       "      <td>-1.834424</td>\n",
       "      <td>-0.835360</td>\n",
       "      <td>0.619507</td>\n",
       "      <td>1.188296</td>\n",
       "    </tr>\n",
       "    <tr>\n",
       "      <th>e</th>\n",
       "      <td>-0.052294</td>\n",
       "      <td>-2.165990</td>\n",
       "      <td>-1.213091</td>\n",
       "      <td>-0.682411</td>\n",
       "    </tr>\n",
       "  </tbody>\n",
       "</table>\n",
       "</div>"
      ],
      "text/plain": [
       "          w         x         y         z\n",
       "a  0.456525  0.509615  0.044549  0.522666\n",
       "b -0.451695 -0.331836 -0.611070 -0.829904\n",
       "c -0.104895  1.232703  0.613380 -0.144972\n",
       "d -1.834424 -0.835360  0.619507  1.188296\n",
       "e -0.052294 -2.165990 -1.213091 -0.682411"
      ]
     },
     "execution_count": 48,
     "metadata": {},
     "output_type": "execute_result"
    }
   ],
   "source": [
    "df=pd.DataFrame(randn(5,4),index=[\"a\",\"b\",\"c\",\"d\",\"e\"],columns=[\"w\",\"x\",\"y\",\"z\"])\n",
    "df\n"
   ]
  },
  {
   "cell_type": "code",
   "execution_count": null,
   "id": "5941b8f7",
   "metadata": {},
   "outputs": [],
   "source": [
    "#adding columns\n",
    "df['new'] =df['w']+df['x']  \n",
    "#removing column\n",
    "#by default inplace is false\n",
    "df.drop('new',axis=1,inplace=True)  #inplace is true then it will remove permanatly column no new dataframe will be created but if inplace is false then new dataframe will be created"
   ]
  },
  {
   "cell_type": "code",
   "execution_count": 47,
   "id": "336b3ba8",
   "metadata": {},
   "outputs": [
    {
     "data": {
      "text/plain": [
       "w    1.464217\n",
       "x   -0.904950\n",
       "y   -0.079376\n",
       "z    1.034719\n",
       "Name: d, dtype: float64"
      ]
     },
     "execution_count": 47,
     "metadata": {},
     "output_type": "execute_result"
    }
   ],
   "source": [
    "#removing row\n",
    "df.drop('a',axis=0)  #axis=0 for row and axis=1 for column\n",
    "df.loc[\"new2\"]=randn(4)\n",
    "df.loc['a']\n",
    "df.iloc[3]"
   ]
  },
  {
   "cell_type": "code",
   "execution_count": null,
   "id": "bbb6ed61",
   "metadata": {},
   "outputs": [
    {
     "data": {
      "text/html": [
       "<div>\n",
       "<style scoped>\n",
       "    .dataframe tbody tr th:only-of-type {\n",
       "        vertical-align: middle;\n",
       "    }\n",
       "\n",
       "    .dataframe tbody tr th {\n",
       "        vertical-align: top;\n",
       "    }\n",
       "\n",
       "    .dataframe thead th {\n",
       "        text-align: right;\n",
       "    }\n",
       "</style>\n",
       "<table border=\"1\" class=\"dataframe\">\n",
       "  <thead>\n",
       "    <tr style=\"text-align: right;\">\n",
       "      <th></th>\n",
       "      <th>w</th>\n",
       "    </tr>\n",
       "  </thead>\n",
       "  <tbody>\n",
       "    <tr>\n",
       "      <th>a</th>\n",
       "      <td>0.456525</td>\n",
       "    </tr>\n",
       "    <tr>\n",
       "      <th>b</th>\n",
       "      <td>-0.451695</td>\n",
       "    </tr>\n",
       "  </tbody>\n",
       "</table>\n",
       "</div>"
      ],
      "text/plain": [
       "          w\n",
       "a  0.456525\n",
       "b -0.451695"
      ]
     },
     "execution_count": 50,
     "metadata": {},
     "output_type": "execute_result"
    }
   ],
   "source": [
    "df.loc[['a','b'],['w']]  #print specific rows and columns"
   ]
  },
  {
   "cell_type": "code",
   "execution_count": null,
   "id": "603cf07d",
   "metadata": {},
   "outputs": [
    {
     "data": {
      "text/html": [
       "<div>\n",
       "<style scoped>\n",
       "    .dataframe tbody tr th:only-of-type {\n",
       "        vertical-align: middle;\n",
       "    }\n",
       "\n",
       "    .dataframe tbody tr th {\n",
       "        vertical-align: top;\n",
       "    }\n",
       "\n",
       "    .dataframe thead th {\n",
       "        text-align: right;\n",
       "    }\n",
       "</style>\n",
       "<table border=\"1\" class=\"dataframe\">\n",
       "  <thead>\n",
       "    <tr style=\"text-align: right;\">\n",
       "      <th></th>\n",
       "      <th>w</th>\n",
       "      <th>x</th>\n",
       "      <th>y</th>\n",
       "      <th>z</th>\n",
       "    </tr>\n",
       "  </thead>\n",
       "  <tbody>\n",
       "    <tr>\n",
       "      <th>a</th>\n",
       "      <td>0.456525</td>\n",
       "      <td>0.509615</td>\n",
       "      <td>0.044549</td>\n",
       "      <td>0.522666</td>\n",
       "    </tr>\n",
       "  </tbody>\n",
       "</table>\n",
       "</div>"
      ],
      "text/plain": [
       "          w         x         y         z\n",
       "a  0.456525  0.509615  0.044549  0.522666"
      ]
     },
     "execution_count": 56,
     "metadata": {},
     "output_type": "execute_result"
    }
   ],
   "source": [
    "booldf=df>1 \n",
    "booldf\n",
    "df[booldf] #print only those values which are greater than 1\n",
    "df[df['w']>0]"
   ]
  }
 ],
 "metadata": {
  "kernelspec": {
   "display_name": "base",
   "language": "python",
   "name": "python3"
  },
  "language_info": {
   "codemirror_mode": {
    "name": "ipython",
    "version": 3
   },
   "file_extension": ".py",
   "mimetype": "text/x-python",
   "name": "python",
   "nbconvert_exporter": "python",
   "pygments_lexer": "ipython3",
   "version": "3.9.12"
  }
 },
 "nbformat": 4,
 "nbformat_minor": 5
}
