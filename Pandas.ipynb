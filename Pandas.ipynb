{
 "cells": [
  {
   "cell_type": "code",
   "execution_count": 1,
   "id": "c4267a60",
   "metadata": {},
   "outputs": [
    {
     "name": "stdout",
     "output_type": "stream",
     "text": [
      "Requirement already satisfied: pandas in c:\\users\\hp\\anaconda3\\lib\\site-packages (1.4.2)\n",
      "Requirement already satisfied: numpy>=1.18.5 in c:\\users\\hp\\anaconda3\\lib\\site-packages (from pandas) (1.21.5)\n",
      "Requirement already satisfied: pytz>=2020.1 in c:\\users\\hp\\anaconda3\\lib\\site-packages (from pandas) (2021.3)\n",
      "Requirement already satisfied: python-dateutil>=2.8.1 in c:\\users\\hp\\anaconda3\\lib\\site-packages (from pandas) (2.8.2)\n",
      "Requirement already satisfied: six>=1.5 in c:\\users\\hp\\anaconda3\\lib\\site-packages (from python-dateutil>=2.8.1->pandas) (1.16.0)\n",
      "Note: you may need to restart the kernel to use updated packages.\n"
     ]
    }
   ],
   "source": [
    "pip install pandas"
   ]
  },
  {
   "cell_type": "code",
   "execution_count": 2,
   "id": "660d828e",
   "metadata": {},
   "outputs": [
    {
     "name": "stdout",
     "output_type": "stream",
     "text": [
      "   calories  wieght\n",
      "0        23      23\n",
      "1        56      45\n",
      "2        20      67\n"
     ]
    }
   ],
   "source": [
    "import pandas as p\n",
    "mydtaset={\n",
    "    \"calories\":[23,56,20],\n",
    "\"wieght\":[23,45,67]\n",
    "}\n",
    "myarv=p.DataFrame(mydtaset)\n",
    "print(myarv)"
   ]
  },
  {
   "cell_type": "code",
   "execution_count": null,
   "id": "b9833c77",
   "metadata": {},
   "outputs": [
    {
     "name": "stdout",
     "output_type": "stream",
     "text": [
      "name    kalu\n",
      "age       12\n",
      "Name: 2, dtype: object\n"
     ]
    }
   ],
   "source": [
    "import pandas as pd\n",
    "mydataset={\n",
    "    \"name\":[\"john\",\"ram\",\"kalu\"],\n",
    "    \"age\":[23,45,12]\n",
    "}\n",
    "myar=pd.DataFrame(mydataset)\n",
    "x=pd.Series(mydataset)  #columns return 1-d array\n",
    "# print(mydataset[\"name\"])  # Output: ['john', 'ram', 'kalu']\n",
    "# print(mydataset[\"age\"])   # Output: [23, 45, 12]\n",
    "# print(x)\n",
    "d=myar.loc[2]  #used to return row \n",
    "print(d)\n",
    "# print(myar)"
   ]
  },
  {
   "cell_type": "code",
   "execution_count": 13,
   "id": "f53112f7",
   "metadata": {},
   "outputs": [
    {
     "name": "stdout",
     "output_type": "stream",
     "text": [
      "a    1\n",
      "b    3\n",
      "c    4\n",
      "d    9\n",
      "dtype: int64\n"
     ]
    }
   ],
   "source": [
    "import pandas as pd\n",
    "data=[1,3,4,9]\n",
    "my =pd.Series(data,index=[\"a\",'b','c','d'])\n",
    "print(my)"
   ]
  },
  {
   "cell_type": "code",
   "execution_count": 4,
   "id": "ec2a756a",
   "metadata": {},
   "outputs": [
    {
     "name": "stdout",
     "output_type": "stream",
     "text": [
      "x    1\n",
      "y    2\n",
      "z    3\n",
      "dtype: int64\n",
      "2\n"
     ]
    }
   ],
   "source": [
    "import pandas as pd\n",
    "mydata = [1,2,3]\n",
    "data = pd.Series(mydata,index=[\"x\",\"y\",\"z\"])\n",
    "print(data)\n",
    "print(data[1])"
   ]
  },
  {
   "cell_type": "code",
   "execution_count": 5,
   "id": "268e20c8",
   "metadata": {},
   "outputs": [
    {
     "name": "stdout",
     "output_type": "stream",
     "text": [
      "day1    23\n",
      "day2    26\n",
      "day3    30\n",
      "dtype: int64\n"
     ]
    }
   ],
   "source": [
    "mydata ={\"day1\":23,\"day2\":26,\"day3\":30}\n",
    "data = pd.Series(mydata)\n",
    "a=mydata[\"day1\"]\n",
    "print(data)"
   ]
  }
 ],
 "metadata": {
  "kernelspec": {
   "display_name": "base",
   "language": "python",
   "name": "python3"
  },
  "language_info": {
   "codemirror_mode": {
    "name": "ipython",
    "version": 3
   },
   "file_extension": ".py",
   "mimetype": "text/x-python",
   "name": "python",
   "nbconvert_exporter": "python",
   "pygments_lexer": "ipython3",
   "version": "3.9.12"
  }
 },
 "nbformat": 4,
 "nbformat_minor": 5
}
