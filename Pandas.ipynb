{
 "cells": [
  {
   "cell_type": "code",
   "execution_count": 1,
   "id": "c4267a60",
   "metadata": {},
   "outputs": [
    {
     "name": "stdout",
     "output_type": "stream",
     "text": [
      "Requirement already satisfied: pandas in c:\\users\\hp\\anaconda3\\lib\\site-packages (1.4.2)\n",
      "Requirement already satisfied: numpy>=1.18.5 in c:\\users\\hp\\anaconda3\\lib\\site-packages (from pandas) (1.21.5)\n",
      "Requirement already satisfied: pytz>=2020.1 in c:\\users\\hp\\anaconda3\\lib\\site-packages (from pandas) (2021.3)\n",
      "Requirement already satisfied: python-dateutil>=2.8.1 in c:\\users\\hp\\anaconda3\\lib\\site-packages (from pandas) (2.8.2)\n",
      "Requirement already satisfied: six>=1.5 in c:\\users\\hp\\anaconda3\\lib\\site-packages (from python-dateutil>=2.8.1->pandas) (1.16.0)\n",
      "Note: you may need to restart the kernel to use updated packages.\n"
     ]
    }
   ],
   "source": [
    "pip install pandas"
   ]
  },
  {
   "cell_type": "code",
   "execution_count": 2,
   "id": "660d828e",
   "metadata": {},
   "outputs": [
    {
     "name": "stdout",
     "output_type": "stream",
     "text": [
      "   calories  wieght\n",
      "0        23      23\n",
      "1        56      45\n",
      "2        20      67\n"
     ]
    }
   ],
   "source": [
    "import pandas as p\n",
    "mydtaset={\n",
    "    \"calories\":[23,56,20],\n",
    "\"wieght\":[23,45,67]\n",
    "}\n",
    "myarv=p.DataFrame(mydtaset)\n",
    "print(myarv)"
   ]
  },
  {
   "cell_type": "code",
   "execution_count": 7,
   "id": "b9833c77",
   "metadata": {},
   "outputs": [
    {
     "name": "stdout",
     "output_type": "stream",
     "text": [
      "name    kalu\n",
      "age       12\n",
      "Name: 2, dtype: object\n"
     ]
    }
   ],
   "source": [
    "import pandas as pd\n",
    "mydataset={\n",
    "    \"name\":[\"john\",\"ram\",\"kalu\"],\n",
    "    \"age\":[23,45,12]\n",
    "}\n",
    "myar=pd.DataFrame(mydataset)\n",
    "\n",
    "x=pd.Series(mydataset)  #columns return 1-d array\n",
    "# print(mydataset[\"name\"])  # Output: ['john', 'ram', 'kalu']\n",
    "# print(mydataset[\"age\"])   # Output: [23, 45, 12]\n",
    "# print(x)\n",
    "d=myar.loc[2]  #used to return row \n",
    "print(d)\n",
    "myar.to_csv(\"data.csv\")\n",
    "# print(myar)"
   ]
  },
  {
   "cell_type": "code",
   "execution_count": null,
   "id": "f53112f7",
   "metadata": {},
   "outputs": [
    {
     "name": "stdout",
     "output_type": "stream",
     "text": [
      "a    1\n",
      "b    3\n",
      "c    4\n",
      "d    9\n",
      "dtype: int64\n"
     ]
    }
   ],
   "source": [
    "import pandas as pd\n",
    "data=[1,3,4,9]\n",
    "my =pd.Series(data,index=[\"a\",'b','c','d'])\n",
    "print(my)"
   ]
  },
  {
   "cell_type": "code",
   "execution_count": 3,
   "id": "ec2a756a",
   "metadata": {},
   "outputs": [
    {
     "name": "stdout",
     "output_type": "stream",
     "text": [
      "x    1\n",
      "y    2\n",
      "z    3\n",
      "dtype: int64\n",
      "2\n"
     ]
    }
   ],
   "source": [
    "import pandas as pd\n",
    "mydata = [1,2,3]\n",
    "data = pd.Series(mydata,index=[\"x\",\"y\",\"z\"])\n",
    "print(data)\n",
    "print(data[1])"
   ]
  },
  {
   "cell_type": "code",
   "execution_count": 4,
   "id": "268e20c8",
   "metadata": {},
   "outputs": [
    {
     "name": "stdout",
     "output_type": "stream",
     "text": [
      "day1    23\n",
      "day2    26\n",
      "day3    30\n",
      "dtype: int64\n"
     ]
    }
   ],
   "source": [
    "mydata ={\"day1\":23,\"day2\":26,\"day3\":30}\n",
    "data = pd.Series(mydata)\n",
    "a=mydata[\"day1\"]\n",
    "print(data)"
   ]
  },
  {
   "cell_type": "code",
   "execution_count": 5,
   "id": "c3842743",
   "metadata": {},
   "outputs": [
    {
     "data": {
      "text/plain": [
       "<bound method NDFrame.head of    Unnamed: 0  name  age\n",
       "0           0  john   23\n",
       "1           1   ram   45\n",
       "2           2  kalu   12>"
      ]
     },
     "execution_count": 5,
     "metadata": {},
     "output_type": "execute_result"
    }
   ],
   "source": [
    "df = pd.read_csv(\"data.csv\")\n",
    "df.head"
   ]
  },
  {
   "cell_type": "code",
   "execution_count": null,
   "id": "d73cd0c4",
   "metadata": {},
   "outputs": [],
   "source": [
    "mydata={\n",
    "    \"name\":[\"jim\",\"pom\",\"kia\"],\n",
    "    \"rollno\":[23,56,90]\n",
    "}\n",
    "data=pd.DataFrame(mydata)\n",
    "data.to_csv(\"data2.csv\") #convert to csv file \n",
    "\n"
   ]
  },
  {
   "cell_type": "code",
   "execution_count": 7,
   "id": "01a9c0ee",
   "metadata": {},
   "outputs": [
    {
     "data": {
      "text/html": [
       "<div>\n",
       "<style scoped>\n",
       "    .dataframe tbody tr th:only-of-type {\n",
       "        vertical-align: middle;\n",
       "    }\n",
       "\n",
       "    .dataframe tbody tr th {\n",
       "        vertical-align: top;\n",
       "    }\n",
       "\n",
       "    .dataframe thead th {\n",
       "        text-align: right;\n",
       "    }\n",
       "</style>\n",
       "<table border=\"1\" class=\"dataframe\">\n",
       "  <thead>\n",
       "    <tr style=\"text-align: right;\">\n",
       "      <th></th>\n",
       "      <th>Unnamed: 0</th>\n",
       "      <th>name</th>\n",
       "      <th>rollno</th>\n",
       "    </tr>\n",
       "  </thead>\n",
       "  <tbody>\n",
       "    <tr>\n",
       "      <th>0</th>\n",
       "      <td>0</td>\n",
       "      <td>jim</td>\n",
       "      <td>23</td>\n",
       "    </tr>\n",
       "    <tr>\n",
       "      <th>1</th>\n",
       "      <td>1</td>\n",
       "      <td>pom</td>\n",
       "      <td>56</td>\n",
       "    </tr>\n",
       "    <tr>\n",
       "      <th>2</th>\n",
       "      <td>2</td>\n",
       "      <td>kia</td>\n",
       "      <td>90</td>\n",
       "    </tr>\n",
       "  </tbody>\n",
       "</table>\n",
       "</div>"
      ],
      "text/plain": [
       "   Unnamed: 0 name  rollno\n",
       "0           0  jim      23\n",
       "1           1  pom      56\n",
       "2           2  kia      90"
      ]
     },
     "execution_count": 7,
     "metadata": {},
     "output_type": "execute_result"
    }
   ],
   "source": [
    "f=pd.read_csv(\"data2.csv\")\n",
    "f"
   ]
  },
  {
   "cell_type": "code",
   "execution_count": 8,
   "id": "b28934a8",
   "metadata": {},
   "outputs": [
    {
     "data": {
      "text/html": [
       "<div>\n",
       "<style scoped>\n",
       "    .dataframe tbody tr th:only-of-type {\n",
       "        vertical-align: middle;\n",
       "    }\n",
       "\n",
       "    .dataframe tbody tr th {\n",
       "        vertical-align: top;\n",
       "    }\n",
       "\n",
       "    .dataframe thead th {\n",
       "        text-align: right;\n",
       "    }\n",
       "</style>\n",
       "<table border=\"1\" class=\"dataframe\">\n",
       "  <thead>\n",
       "    <tr style=\"text-align: right;\">\n",
       "      <th></th>\n",
       "      <th>Unnamed: 0</th>\n",
       "      <th>name</th>\n",
       "      <th>rollno</th>\n",
       "    </tr>\n",
       "  </thead>\n",
       "  <tbody>\n",
       "    <tr>\n",
       "      <th>0</th>\n",
       "      <td>0</td>\n",
       "      <td>jim</td>\n",
       "      <td>23</td>\n",
       "    </tr>\n",
       "    <tr>\n",
       "      <th>1</th>\n",
       "      <td>1</td>\n",
       "      <td>pom</td>\n",
       "      <td>56</td>\n",
       "    </tr>\n",
       "    <tr>\n",
       "      <th>2</th>\n",
       "      <td>2</td>\n",
       "      <td>kia</td>\n",
       "      <td>90</td>\n",
       "    </tr>\n",
       "  </tbody>\n",
       "</table>\n",
       "</div>"
      ],
      "text/plain": [
       "   Unnamed: 0 name  rollno\n",
       "0           0  jim      23\n",
       "1           1  pom      56\n",
       "2           2  kia      90"
      ]
     },
     "execution_count": 8,
     "metadata": {},
     "output_type": "execute_result"
    }
   ],
   "source": [
    "f.head()"
   ]
  },
  {
   "cell_type": "code",
   "execution_count": 11,
   "id": "1e4fd006",
   "metadata": {},
   "outputs": [
    {
     "name": "stdout",
     "output_type": "stream",
     "text": [
      "60\n"
     ]
    }
   ],
   "source": [
    "print(pd.options.display.max_rows)"
   ]
  },
  {
   "cell_type": "code",
   "execution_count": 13,
   "id": "e7d512a9",
   "metadata": {},
   "outputs": [
    {
     "name": "stdout",
     "output_type": "stream",
     "text": [
      "   Unnamed: 0  name  age\n",
      "0           0  john   23\n",
      "1           1   ram   45\n",
      "2           2  kalu   12\n"
     ]
    }
   ],
   "source": [
    "import pandas as pd\n",
    "\n",
    "pd.options.display.max_rows = 9999\n",
    "\n",
    "df = pd.read_csv('data.csv')\n",
    "\n",
    "print(df) "
   ]
  },
  {
   "cell_type": "code",
   "execution_count": null,
   "id": "2247e559",
   "metadata": {},
   "outputs": [
    {
     "name": "stdout",
     "output_type": "stream",
     "text": [
      "<bound method DataFrame.to_string of     name  age\n",
      "0    jim   45\n",
      "1    pom   90\n",
      "2  shawn   89>\n",
      "    name  age\n",
      "1    pom   90\n",
      "2  shawn   89\n",
      "<class 'pandas.core.frame.DataFrame'>\n",
      "RangeIndex: 3 entries, 0 to 2\n",
      "Data columns (total 2 columns):\n",
      " #   Column  Non-Null Count  Dtype \n",
      "---  ------  --------------  ----- \n",
      " 0   name    3 non-null      object\n",
      " 1   age     3 non-null      int64 \n",
      "dtypes: int64(1), object(1)\n",
      "memory usage: 176.0+ bytes\n",
      "None\n"
     ]
    }
   ],
   "source": [
    "import pandas as pd\n",
    "\n",
    "# Sample data\n",
    "mydata = {\n",
    "    \"name\": [\"jim\", \"pom\", \"shawn\"],\n",
    "    \"age\": [45, 90, 89]\n",
    "}\n",
    "\n",
    "\n",
    "f = pd.DataFrame(mydata)\n",
    "\n",
    "\n",
    "\n",
    "# Read JSON file into DataFrame\n",
    "new_df = pd.read_json(\"data3.json\")\n",
    "\n",
    "# Print the new DataFrame\n",
    "print(new_df.to_string)\n",
    "print(new_df.tail(2))\n",
    "print(new_df.info()) #tell info of datset\n",
    "#head tell us first 5 rows by default\n",
    "#but cans set head(10) to see first 10 rows\n",
    "#tail tell us last 5 rows by default\n"
   ]
  },
  {
   "cell_type": "code",
   "execution_count": 14,
   "id": "69136d5f",
   "metadata": {},
   "outputs": [
    {
     "data": {
      "text/plain": [
       "ab    1\n",
       "bc    2\n",
       "kc    3\n",
       "dtype: int64"
      ]
     },
     "execution_count": 14,
     "metadata": {},
     "output_type": "execute_result"
    }
   ],
   "source": [
    "import pandas as pd\n",
    "\n",
    "n=pd.Series(data=[\"a\",\"b\",\"c\"] ,index=[1,2,3])  \n",
    "m=pd.Series(data=[sum,print,len])\n",
    "n[1]=9\n",
    "n\n",
    "data=[\"ab\",\"bc\",\"kc\"]\n",
    "labels=[1,2,3]\n",
    "a=pd.Series(data=labels,index=data)\n",
    "a\n",
    "\n"
   ]
  },
  {
   "cell_type": "code",
   "execution_count": 3,
   "id": "73e5a11e",
   "metadata": {},
   "outputs": [],
   "source": [
    "import numpy as np\n",
    "import pandas as pd\n",
    "from numpy.random import randn"
   ]
  },
  {
   "cell_type": "code",
   "execution_count": 4,
   "id": "8233bc73",
   "metadata": {},
   "outputs": [
    {
     "data": {
      "text/html": [
       "<div>\n",
       "<style scoped>\n",
       "    .dataframe tbody tr th:only-of-type {\n",
       "        vertical-align: middle;\n",
       "    }\n",
       "\n",
       "    .dataframe tbody tr th {\n",
       "        vertical-align: top;\n",
       "    }\n",
       "\n",
       "    .dataframe thead th {\n",
       "        text-align: right;\n",
       "    }\n",
       "</style>\n",
       "<table border=\"1\" class=\"dataframe\">\n",
       "  <thead>\n",
       "    <tr style=\"text-align: right;\">\n",
       "      <th></th>\n",
       "      <th>w</th>\n",
       "      <th>x</th>\n",
       "      <th>y</th>\n",
       "      <th>z</th>\n",
       "    </tr>\n",
       "  </thead>\n",
       "  <tbody>\n",
       "    <tr>\n",
       "      <th>a</th>\n",
       "      <td>0.492935</td>\n",
       "      <td>0.660269</td>\n",
       "      <td>-1.188202</td>\n",
       "      <td>-0.790793</td>\n",
       "    </tr>\n",
       "    <tr>\n",
       "      <th>b</th>\n",
       "      <td>-1.340530</td>\n",
       "      <td>0.989884</td>\n",
       "      <td>0.885175</td>\n",
       "      <td>-0.382623</td>\n",
       "    </tr>\n",
       "    <tr>\n",
       "      <th>c</th>\n",
       "      <td>-0.696542</td>\n",
       "      <td>-0.125780</td>\n",
       "      <td>0.444709</td>\n",
       "      <td>0.056279</td>\n",
       "    </tr>\n",
       "    <tr>\n",
       "      <th>d</th>\n",
       "      <td>-0.646099</td>\n",
       "      <td>-0.392074</td>\n",
       "      <td>0.716700</td>\n",
       "      <td>0.354753</td>\n",
       "    </tr>\n",
       "    <tr>\n",
       "      <th>e</th>\n",
       "      <td>-0.455528</td>\n",
       "      <td>-0.601283</td>\n",
       "      <td>-0.210170</td>\n",
       "      <td>1.091711</td>\n",
       "    </tr>\n",
       "  </tbody>\n",
       "</table>\n",
       "</div>"
      ],
      "text/plain": [
       "          w         x         y         z\n",
       "a  0.492935  0.660269 -1.188202 -0.790793\n",
       "b -1.340530  0.989884  0.885175 -0.382623\n",
       "c -0.696542 -0.125780  0.444709  0.056279\n",
       "d -0.646099 -0.392074  0.716700  0.354753\n",
       "e -0.455528 -0.601283 -0.210170  1.091711"
      ]
     },
     "execution_count": 4,
     "metadata": {},
     "output_type": "execute_result"
    }
   ],
   "source": [
    "df=pd.DataFrame(randn(5,4),index=[\"a\",\"b\",\"c\",\"d\",\"e\"],columns=[\"w\",\"x\",\"y\",\"z\"])\n",
    "df\n"
   ]
  },
  {
   "cell_type": "code",
   "execution_count": null,
   "id": "5941b8f7",
   "metadata": {},
   "outputs": [],
   "source": [
    "#adding columns\n",
    "df['new'] =df['w']+df['x']  \n",
    "#removing column\n",
    "#by default inplace is false\n",
    "df.drop('new',axis=1,inplace=True)  #inplace is true then it will remove permanatly column no new dataframe will be created but if inplace is false then new dataframe will be created"
   ]
  },
  {
   "cell_type": "code",
   "execution_count": 47,
   "id": "336b3ba8",
   "metadata": {},
   "outputs": [
    {
     "data": {
      "text/plain": [
       "w    1.464217\n",
       "x   -0.904950\n",
       "y   -0.079376\n",
       "z    1.034719\n",
       "Name: d, dtype: float64"
      ]
     },
     "execution_count": 47,
     "metadata": {},
     "output_type": "execute_result"
    }
   ],
   "source": [
    "#removing row\n",
    "df.drop('a',axis=0)  #axis=0 for row and axis=1 for column\n",
    "df.loc[\"new2\"]=randn(4)\n",
    "df.loc['a']\n",
    "df.iloc[3]"
   ]
  },
  {
   "cell_type": "code",
   "execution_count": null,
   "id": "bbb6ed61",
   "metadata": {},
   "outputs": [
    {
     "data": {
      "text/html": [
       "<div>\n",
       "<style scoped>\n",
       "    .dataframe tbody tr th:only-of-type {\n",
       "        vertical-align: middle;\n",
       "    }\n",
       "\n",
       "    .dataframe tbody tr th {\n",
       "        vertical-align: top;\n",
       "    }\n",
       "\n",
       "    .dataframe thead th {\n",
       "        text-align: right;\n",
       "    }\n",
       "</style>\n",
       "<table border=\"1\" class=\"dataframe\">\n",
       "  <thead>\n",
       "    <tr style=\"text-align: right;\">\n",
       "      <th></th>\n",
       "      <th>w</th>\n",
       "    </tr>\n",
       "  </thead>\n",
       "  <tbody>\n",
       "    <tr>\n",
       "      <th>a</th>\n",
       "      <td>0.456525</td>\n",
       "    </tr>\n",
       "    <tr>\n",
       "      <th>b</th>\n",
       "      <td>-0.451695</td>\n",
       "    </tr>\n",
       "  </tbody>\n",
       "</table>\n",
       "</div>"
      ],
      "text/plain": [
       "          w\n",
       "a  0.456525\n",
       "b -0.451695"
      ]
     },
     "execution_count": 50,
     "metadata": {},
     "output_type": "execute_result"
    }
   ],
   "source": [
    "df.loc[['a','b'],['w']]  #print specific rows and columns"
   ]
  },
  {
   "cell_type": "code",
   "execution_count": 10,
   "id": "603cf07d",
   "metadata": {},
   "outputs": [
    {
     "data": {
      "text/html": [
       "<div>\n",
       "<style scoped>\n",
       "    .dataframe tbody tr th:only-of-type {\n",
       "        vertical-align: middle;\n",
       "    }\n",
       "\n",
       "    .dataframe tbody tr th {\n",
       "        vertical-align: top;\n",
       "    }\n",
       "\n",
       "    .dataframe thead th {\n",
       "        text-align: right;\n",
       "    }\n",
       "</style>\n",
       "<table border=\"1\" class=\"dataframe\">\n",
       "  <thead>\n",
       "    <tr style=\"text-align: right;\">\n",
       "      <th></th>\n",
       "      <th>w</th>\n",
       "      <th>x</th>\n",
       "      <th>y</th>\n",
       "      <th>z</th>\n",
       "    </tr>\n",
       "  </thead>\n",
       "  <tbody>\n",
       "    <tr>\n",
       "      <th>a</th>\n",
       "      <td>0.492935</td>\n",
       "      <td>0.660269</td>\n",
       "      <td>-1.188202</td>\n",
       "      <td>-0.790793</td>\n",
       "    </tr>\n",
       "    <tr>\n",
       "      <th>b</th>\n",
       "      <td>-1.340530</td>\n",
       "      <td>0.989884</td>\n",
       "      <td>0.885175</td>\n",
       "      <td>-0.382623</td>\n",
       "    </tr>\n",
       "    <tr>\n",
       "      <th>c</th>\n",
       "      <td>-0.696542</td>\n",
       "      <td>-0.125780</td>\n",
       "      <td>0.444709</td>\n",
       "      <td>0.056279</td>\n",
       "    </tr>\n",
       "    <tr>\n",
       "      <th>d</th>\n",
       "      <td>-0.646099</td>\n",
       "      <td>-0.392074</td>\n",
       "      <td>0.716700</td>\n",
       "      <td>0.354753</td>\n",
       "    </tr>\n",
       "  </tbody>\n",
       "</table>\n",
       "</div>"
      ],
      "text/plain": [
       "          w         x         y         z\n",
       "a  0.492935  0.660269 -1.188202 -0.790793\n",
       "b -1.340530  0.989884  0.885175 -0.382623\n",
       "c -0.696542 -0.125780  0.444709  0.056279\n",
       "d -0.646099 -0.392074  0.716700  0.354753"
      ]
     },
     "execution_count": 10,
     "metadata": {},
     "output_type": "execute_result"
    }
   ],
   "source": [
    "booldf=df>1 \n",
    "booldf\n",
    "df[booldf] #print only those values which are greater than 1\n",
    "df[df['w']>0]\n",
    "df[(df['w']>0) & (df['y']<0)]\n",
    "df[(df['w']>0) | (df['y']>0)]"
   ]
  },
  {
   "cell_type": "code",
   "execution_count": 23,
   "id": "5a73f267",
   "metadata": {},
   "outputs": [
    {
     "name": "stdout",
     "output_type": "stream",
     "text": [
      "Index(['w', 'x', 'y', 'z'], dtype='object')\n"
     ]
    },
    {
     "data": {
      "text/html": [
       "<div>\n",
       "<style scoped>\n",
       "    .dataframe tbody tr th:only-of-type {\n",
       "        vertical-align: middle;\n",
       "    }\n",
       "\n",
       "    .dataframe tbody tr th {\n",
       "        vertical-align: top;\n",
       "    }\n",
       "\n",
       "    .dataframe thead th {\n",
       "        text-align: right;\n",
       "    }\n",
       "</style>\n",
       "<table border=\"1\" class=\"dataframe\">\n",
       "  <thead>\n",
       "    <tr style=\"text-align: right;\">\n",
       "      <th></th>\n",
       "      <th>w</th>\n",
       "      <th>x</th>\n",
       "      <th>y</th>\n",
       "      <th>z</th>\n",
       "    </tr>\n",
       "  </thead>\n",
       "  <tbody>\n",
       "    <tr>\n",
       "      <th>0</th>\n",
       "      <td>0.492935</td>\n",
       "      <td>0.660269</td>\n",
       "      <td>-1.188202</td>\n",
       "      <td>-0.790793</td>\n",
       "    </tr>\n",
       "    <tr>\n",
       "      <th>1</th>\n",
       "      <td>-1.340530</td>\n",
       "      <td>0.989884</td>\n",
       "      <td>0.885175</td>\n",
       "      <td>-0.382623</td>\n",
       "    </tr>\n",
       "    <tr>\n",
       "      <th>2</th>\n",
       "      <td>-0.696542</td>\n",
       "      <td>-0.125780</td>\n",
       "      <td>0.444709</td>\n",
       "      <td>0.056279</td>\n",
       "    </tr>\n",
       "    <tr>\n",
       "      <th>3</th>\n",
       "      <td>-0.646099</td>\n",
       "      <td>-0.392074</td>\n",
       "      <td>0.716700</td>\n",
       "      <td>0.354753</td>\n",
       "    </tr>\n",
       "    <tr>\n",
       "      <th>4</th>\n",
       "      <td>-0.455528</td>\n",
       "      <td>-0.601283</td>\n",
       "      <td>-0.210170</td>\n",
       "      <td>1.091711</td>\n",
       "    </tr>\n",
       "  </tbody>\n",
       "</table>\n",
       "</div>"
      ],
      "text/plain": [
       "          w         x         y         z\n",
       "0  0.492935  0.660269 -1.188202 -0.790793\n",
       "1 -1.340530  0.989884  0.885175 -0.382623\n",
       "2 -0.696542 -0.125780  0.444709  0.056279\n",
       "3 -0.646099 -0.392074  0.716700  0.354753\n",
       "4 -0.455528 -0.601283 -0.210170  1.091711"
      ]
     },
     "execution_count": 23,
     "metadata": {},
     "output_type": "execute_result"
    }
   ],
   "source": [
    "\n",
    "# df.drop('level_0',axis=1,inplace=True)\n",
    "# df\n",
    "print(df.columns)\n",
    "df\n",
    "\n",
    "\n"
   ]
  },
  {
   "cell_type": "code",
   "execution_count": 25,
   "id": "dd6374e9",
   "metadata": {},
   "outputs": [
    {
     "data": {
      "text/html": [
       "<div>\n",
       "<style scoped>\n",
       "    .dataframe tbody tr th:only-of-type {\n",
       "        vertical-align: middle;\n",
       "    }\n",
       "\n",
       "    .dataframe tbody tr th {\n",
       "        vertical-align: top;\n",
       "    }\n",
       "\n",
       "    .dataframe thead th {\n",
       "        text-align: right;\n",
       "    }\n",
       "</style>\n",
       "<table border=\"1\" class=\"dataframe\">\n",
       "  <thead>\n",
       "    <tr style=\"text-align: right;\">\n",
       "      <th></th>\n",
       "      <th>w</th>\n",
       "      <th>x</th>\n",
       "      <th>y</th>\n",
       "      <th>z</th>\n",
       "    </tr>\n",
       "    <tr>\n",
       "      <th>states</th>\n",
       "      <th></th>\n",
       "      <th></th>\n",
       "      <th></th>\n",
       "      <th></th>\n",
       "    </tr>\n",
       "  </thead>\n",
       "  <tbody>\n",
       "    <tr>\n",
       "      <th>wc</th>\n",
       "      <td>0.492935</td>\n",
       "      <td>0.660269</td>\n",
       "      <td>-1.188202</td>\n",
       "      <td>-0.790793</td>\n",
       "    </tr>\n",
       "    <tr>\n",
       "      <th>gh</th>\n",
       "      <td>-1.340530</td>\n",
       "      <td>0.989884</td>\n",
       "      <td>0.885175</td>\n",
       "      <td>-0.382623</td>\n",
       "    </tr>\n",
       "    <tr>\n",
       "      <th>ij</th>\n",
       "      <td>-0.696542</td>\n",
       "      <td>-0.125780</td>\n",
       "      <td>0.444709</td>\n",
       "      <td>0.056279</td>\n",
       "    </tr>\n",
       "    <tr>\n",
       "      <th>kl</th>\n",
       "      <td>-0.646099</td>\n",
       "      <td>-0.392074</td>\n",
       "      <td>0.716700</td>\n",
       "      <td>0.354753</td>\n",
       "    </tr>\n",
       "    <tr>\n",
       "      <th>mn</th>\n",
       "      <td>-0.455528</td>\n",
       "      <td>-0.601283</td>\n",
       "      <td>-0.210170</td>\n",
       "      <td>1.091711</td>\n",
       "    </tr>\n",
       "  </tbody>\n",
       "</table>\n",
       "</div>"
      ],
      "text/plain": [
       "               w         x         y         z\n",
       "states                                        \n",
       "wc      0.492935  0.660269 -1.188202 -0.790793\n",
       "gh     -1.340530  0.989884  0.885175 -0.382623\n",
       "ij     -0.696542 -0.125780  0.444709  0.056279\n",
       "kl     -0.646099 -0.392074  0.716700  0.354753\n",
       "mn     -0.455528 -0.601283 -0.210170  1.091711"
      ]
     },
     "execution_count": 25,
     "metadata": {},
     "output_type": "execute_result"
    }
   ],
   "source": [
    "new_df=[\"wc\",\"gh\",\"ij\",\"kl\",\"mn\"]\n",
    "df[\"states\"]=new_df\n",
    "df.set_index('states')"
   ]
  },
  {
   "cell_type": "code",
   "execution_count": 5,
   "id": "7aca7b36",
   "metadata": {},
   "outputs": [
    {
     "data": {
      "text/plain": [
       "[('a', 1), ('b', 2), ('c', 3), ('d', 3)]"
      ]
     },
     "execution_count": 5,
     "metadata": {},
     "output_type": "execute_result"
    }
   ],
   "source": [
    "inside=['a','b','c','d']\n",
    "outside=[1,2,3,3]\n",
    "h=list(zip(inside,outside))  #If inside and outside have different lengths, zip() stops at the shorter length.\n",
    "h"
   ]
  },
  {
   "cell_type": "code",
   "execution_count": null,
   "id": "0256171d",
   "metadata": {},
   "outputs": [
    {
     "data": {
      "text/html": [
       "<div>\n",
       "<style scoped>\n",
       "    .dataframe tbody tr th:only-of-type {\n",
       "        vertical-align: middle;\n",
       "    }\n",
       "\n",
       "    .dataframe tbody tr th {\n",
       "        vertical-align: top;\n",
       "    }\n",
       "\n",
       "    .dataframe thead th {\n",
       "        text-align: right;\n",
       "    }\n",
       "</style>\n",
       "<table border=\"1\" class=\"dataframe\">\n",
       "  <thead>\n",
       "    <tr style=\"text-align: right;\">\n",
       "      <th></th>\n",
       "      <th>C</th>\n",
       "    </tr>\n",
       "  </thead>\n",
       "  <tbody>\n",
       "    <tr>\n",
       "      <th>0</th>\n",
       "      <td>1</td>\n",
       "    </tr>\n",
       "    <tr>\n",
       "      <th>1</th>\n",
       "      <td>2</td>\n",
       "    </tr>\n",
       "    <tr>\n",
       "      <th>2</th>\n",
       "      <td>3</td>\n",
       "    </tr>\n",
       "  </tbody>\n",
       "</table>\n",
       "</div>"
      ],
      "text/plain": [
       "   C\n",
       "0  1\n",
       "1  2\n",
       "2  3"
      ]
     },
     "execution_count": 18,
     "metadata": {},
     "output_type": "execute_result"
    }
   ],
   "source": [
    "#missing data \n",
    "import numpy as np\n",
    "import pandas as pd\n",
    "c={\"A\":[1,2,np.nan],\"B\":[5,np.nan,np.nan],\"C\":[1,2,3]}\n",
    "df =pd.DataFrame(c)\n",
    "df.dropna() #remove rows with missing data\n",
    "df.dropna(axis=1) #remove col with missing data"
   ]
  },
  {
   "cell_type": "code",
   "execution_count": null,
   "id": "01849692",
   "metadata": {},
   "outputs": [],
   "source": []
  }
 ],
 "metadata": {
  "kernelspec": {
   "display_name": "base",
   "language": "python",
   "name": "python3"
  },
  "language_info": {
   "codemirror_mode": {
    "name": "ipython",
    "version": 3
   },
   "file_extension": ".py",
   "mimetype": "text/x-python",
   "name": "python",
   "nbconvert_exporter": "python",
   "pygments_lexer": "ipython3",
   "version": "3.9.12"
  }
 },
 "nbformat": 4,
 "nbformat_minor": 5
}
